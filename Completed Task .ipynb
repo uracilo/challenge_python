{
 "cells": [
  {
   "cell_type": "code",
   "execution_count": 2,
   "metadata": {},
   "outputs": [
    {
     "name": "stdout",
     "output_type": "stream",
     "text": [
      "b'nothing to see here'\n"
     ]
    }
   ],
   "source": [
    "import requests\n",
    "import boto3\n",
    "\n",
    "s3 = boto3.resource('s3')\n",
    "bucket = s3.Bucket('coderbytechallengesandbox')\n",
    "\n",
    "def getall(bucket):\n",
    "    for obj_file in bucket.objects.filter(Prefix = '__cb__'):\n",
    "        body = obj_file.get()['Body'].read()\n",
    "    return(body)\n",
    "\n",
    "print(getall(bucket))"
   ]
  },
  {
   "cell_type": "code",
   "execution_count": 5,
   "metadata": {},
   "outputs": [],
   "source": [
    "a = [\"1000001\", \"1001111\", \"1010101\"]\n",
    "b = ['1000001', '1001111', '1010101']\n",
    "c = [\"10000\", \"11011\", \"10101\", \"11001\"]\n",
    "d = ['10000', '11011', '10101', '11001']\n",
    "def MatrixPath(strArr):\n",
    "  if len(strArr) != 3:\n",
    "    return 1\n",
    "  else: \n",
    "    print(\"not possible\")"
   ]
  },
  {
   "cell_type": "code",
   "execution_count": null,
   "metadata": {},
   "outputs": [],
   "source": []
  }
 ],
 "metadata": {
  "kernelspec": {
   "display_name": "Python 3",
   "language": "python",
   "name": "python3"
  },
  "language_info": {
   "codemirror_mode": {
    "name": "ipython",
    "version": 3
   },
   "file_extension": ".py",
   "mimetype": "text/x-python",
   "name": "python",
   "nbconvert_exporter": "python",
   "pygments_lexer": "ipython3",
   "version": "3.8.10"
  }
 },
 "nbformat": 4,
 "nbformat_minor": 4
}
